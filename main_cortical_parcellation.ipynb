{
 "cells": [
  {
   "cell_type": "markdown",
   "metadata": {},
   "source": [
    "# Groupwise cortical parcellation"
   ]
  },
  {
   "cell_type": "code",
   "execution_count": 96,
   "metadata": {
    "collapsed": false
   },
   "outputs": [
    {
     "name": "stdout",
     "output_type": "stream",
     "text": [
      "Once deleted, variables cannot be recovered. Proceed (y/[n])? y\n",
      "100307.reduce3.LR_mask.mat\n"
     ]
    }
   ],
   "source": [
    "\"\"\"\n",
    "||AUM||\n",
    "||Shree Ganeshaya Namaha||\n",
    "\n",
    "\"\"\"\n",
    "%reset\n",
    "from dfsio import readdfs,writedfs\n",
    "import scipy.io\n",
    "import numpy as np\n",
    "import csv\n",
    "from dfsio import readdfs,writedfs\n",
    "from mayavi import mlab\n",
    "import h5py\n",
    "import os\n",
    "p_dir = 'C:\\\\Users\\\\ajoshi\\\\Downloads\\\\HCP-fMRI-NLM';\n",
    "sub = '100307';\n",
    "r_factor = 3;\n",
    "ref_dir = os.path.join(p_dir, 'reference');\n",
    "ref = '100307';\n",
    "print(ref + '.reduce' + str(r_factor) + '.LR_mask.mat')\n",
    "fn1=ref + '.reduce' + str(r_factor) + '.LR_mask.mat'\n",
    "fname1=os.path.join(ref_dir,fn1 )\n",
    "msk = scipy.io.loadmat(fname1) #h5py.File(fname1);\n",
    "data = scipy.io.loadmat(os.path.join(p_dir, sub, sub + '.rfMRI_REST1_RL.reduce3.ftdata.NLM_11N_hvar_25.mat'));\n",
    "\n",
    "dfs_left = readdfs(os.path.join(p_dir, 'reference', sub + '.aparc.a2009s.32k_fs.reduce3.left.dfs'));\n",
    "dfs_left_sm = readdfs(os.path.join(p_dir, 'reference', sub + '.aparc.a2009s.32k_fs.reduce3.very_smooth.left.dfs'));\n",
    "LR_flag=msk['LR_flag']\n",
    "LR_flag=np.squeeze(LR_flag)>0\n",
    "data=data['ftdata_NLM']\n",
    "temp = data[LR_flag, :]\n",
    "\n",
    "msk_small_region = (dfs_left.labels==46) | (dfs_left.labels==28) | (dfs_left.labels==29) #% motor\n",
    "\n",
    "#temp = data.ftdata_NLM;%(msk.LR_flag, :);\n",
    "d = temp[msk_small_region , :];\n",
    "d_corr = temp[~msk_small_region , :];\n",
    "\n",
    "#% make each signal mean-0 and variance-1\n",
    "m = np.mean(d, 1);\n",
    "d = d - m[:,None]#(:, np.ones((1, size(d, 2)]);\n",
    "s = np.std(d, 1);\n",
    "d = d/s[:,None]\n",
    "#g_mask = np.any(~np.isfinite(d),1);\n",
    "#d[g_mask, :] = 0;\n",
    "\n",
    "\n",
    "#% compute correlation matrix\n",
    "rho = np.corrcoef(d, d_corr);\n",
    "rho=rho[range(d.shape[0]),d.shape[0]+1:]\n",
    "rho[~np.isfinite(rho)] = 0;\n",
    "rho_rho = np.corrcoef(rho);\n",
    " \n"
   ]
  },
  {
   "cell_type": "code",
   "execution_count": 97,
   "metadata": {
    "collapsed": false
   },
   "outputs": [
    {
     "data": {
      "text/plain": [
       "(753L, 753L)"
      ]
     },
     "execution_count": 97,
     "metadata": {},
     "output_type": "execute_result"
    }
   ],
   "source": [
    "rho_rho.shape"
   ]
  },
  {
   "cell_type": "code",
   "execution_count": 98,
   "metadata": {
    "collapsed": false
   },
   "outputs": [
    {
     "data": {
      "text/plain": [
       "0.99761657260138825"
      ]
     },
     "execution_count": 98,
     "metadata": {},
     "output_type": "execute_result"
    }
   ],
   "source": [
    "rho_rho[0,2]"
   ]
  },
  {
   "cell_type": "code",
   "execution_count": 99,
   "metadata": {
    "collapsed": true
   },
   "outputs": [],
   "source": [
    "#from skimage import data, io, segmentation, color\n",
    "#from skimage.future import graph\n",
    "from sklearn.cluster import SpectralClustering"
   ]
  },
  {
   "cell_type": "code",
   "execution_count": 117,
   "metadata": {
    "collapsed": false
   },
   "outputs": [],
   "source": [
    "\n"
   ]
  },
  {
   "cell_type": "code",
   "execution_count": 122,
   "metadata": {
    "collapsed": false
   },
   "outputs": [],
   "source": [
    "for nclusters in [2, 5, 10, 30]:\n",
    "    SC=SpectralClustering(n_clusters=nclusters,affinity='precomputed')\n",
    "    labs=SC.fit_predict(rho_rho)\n",
    "\n",
    "    r=dfs_left_sm;r.labels=r.labels*0;r.labels[msk_small_region]=labs+1;\n",
    "    mesh = mlab.triangular_mesh(r.vertices[:,0], r.vertices[:,1], r.vertices[:,2], r.faces, representation='surface', \n",
    "                            opacity=1,scalars=np.float64(r.labels))\n",
    "    #mlab.pipeline.surface(mesh)\n",
    "\n",
    "    mlab.gcf().scene.parallel_projection = True\n",
    "    mlab.view(azimuth=0, elevation=-90)\n",
    "    mlab.savefig(filename = str(nclusters)+'labels1.png')\n",
    "    mlab.view(azimuth=0, elevation=90)\n",
    "    mlab.savefig(filename = str(nclusters)+'labels2.png')\n",
    "    mlab.close();"
   ]
  },
  {
   "cell_type": "code",
   "execution_count": 120,
   "metadata": {
    "collapsed": false
   },
   "outputs": [
    {
     "data": {
      "text/plain": [
       "'5'"
      ]
     },
     "execution_count": 120,
     "metadata": {},
     "output_type": "execute_result"
    }
   ],
   "source": [
    "str(5)"
   ]
  },
  {
   "cell_type": "code",
   "execution_count": 9,
   "metadata": {
    "collapsed": false
   },
   "outputs": [
    {
     "data": {
      "text/plain": [
       "0"
      ]
     },
     "execution_count": 9,
     "metadata": {},
     "output_type": "execute_result"
    }
   ],
   "source": [
    "np.min(labs)"
   ]
  },
  {
   "cell_type": "code",
   "execution_count": null,
   "metadata": {
    "collapsed": true
   },
   "outputs": [],
   "source": []
  }
 ],
 "metadata": {
  "kernelspec": {
   "display_name": "Python 2",
   "language": "python",
   "name": "python2"
  },
  "language_info": {
   "codemirror_mode": {
    "name": "ipython",
    "version": 2
   },
   "file_extension": ".py",
   "mimetype": "text/x-python",
   "name": "python",
   "nbconvert_exporter": "python",
   "pygments_lexer": "ipython2",
   "version": "2.7.11"
  }
 },
 "nbformat": 4,
 "nbformat_minor": 0
}
