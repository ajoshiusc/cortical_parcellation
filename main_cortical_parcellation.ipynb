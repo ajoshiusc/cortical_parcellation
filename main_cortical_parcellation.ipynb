{
 "cells": [
  {
   "cell_type": "markdown",
   "metadata": {},
   "source": [
    "# Groupwise cortical parcellation"
   ]
  },
  {
   "cell_type": "code",
   "execution_count": 3,
   "metadata": {
    "collapsed": false
   },
   "outputs": [
    {
     "name": "stdout",
     "output_type": "stream",
     "text": [
      "Once deleted, variables cannot be recovered. Proceed (y/[n])? y\n"
     ]
    },
    {
     "name": "stderr",
     "output_type": "stream",
     "text": [
      "WARNING:traits.has_traits:DEPRECATED: traits.has_traits.wrapped_class, 'the 'implements' class advisor has been deprecated. Use the 'provides' class decorator.\n"
     ]
    },
    {
     "name": "stdout",
     "output_type": "stream",
     "text": [
      "100307.reduce3.LR_mask.mat\n"
     ]
    },
    {
     "name": "stderr",
     "output_type": "stream",
     "text": [
      "C:\\Users\\ajoshi\\Miniconda2\\lib\\site-packages\\numpy\\lib\\function_base.py:1957: RuntimeWarning: invalid value encountered in true_divide\n",
      "  return c / sqrt(multiply.outer(d, d))\n"
     ]
    }
   ],
   "source": [
    "\"\"\"\n",
    "||AUM||\n",
    "||Shree Ganeshaya Namaha||\n",
    "\n",
    "\"\"\"\n",
    "%reset\n",
    "from dfsio import readdfs,writedfs\n",
    "import scipy.io\n",
    "import numpy as np\n",
    "import csv\n",
    "from dfsio import readdfs,writedfs\n",
    "from mayavi import mlab\n",
    "import h5py\n",
    "import os\n",
    "p_dir = 'C:\\\\Users\\\\ajoshi\\\\Downloads\\\\HCP-fMRI-NLM';\n",
    "sub = '100307';\n",
    "r_factor = 3;\n",
    "ref_dir = os.path.join(p_dir, 'reference');\n",
    "ref = '100307';\n",
    "print(ref + '.reduce' + str(r_factor) + '.LR_mask.mat')\n",
    "fn1=ref + '.reduce' + str(r_factor) + '.LR_mask.mat'\n",
    "fname1=os.path.join(ref_dir,fn1 )\n",
    "msk = scipy.io.loadmat(fname1) #h5py.File(fname1);\n",
    "data = scipy.io.loadmat(os.path.join(p_dir, sub, sub + '.rfMRI_REST1_RL.reduce3.ftdata.NLM_11N_hvar_25.mat'));\n",
    "\n",
    "dfs_left = readdfs(os.path.join(p_dir, 'reference', sub + '.aparc.a2009s.32k_fs.reduce3.left.dfs'));\n",
    "dfs_left_sm = readdfs(os.path.join(p_dir, 'reference', sub + '.aparc.a2009s.32k_fs.reduce3.very_smooth.left.dfs'));\n",
    "LR_flag=msk['LR_flag']\n",
    "LR_flag=np.squeeze(LR_flag)>0\n",
    "data=data['ftdata_NLM']\n",
    "temp = data[LR_flag, :]\n",
    "\n",
    "msk_small_region = (dfs_left.labels==46) | (dfs_left.labels==28) | (dfs_left.labels==29) #% motor\n",
    "\n",
    "#temp = data.ftdata_NLM;%(msk.LR_flag, :);\n",
    "d = temp[msk_small_region , :];\n",
    "d_corr = temp[~msk_small_region , :];\n",
    "\n",
    "#% make each signal mean-0 and variance-1\n",
    "m = np.mean(d, 1);\n",
    "d = d - m[:,None]#(:, np.ones((1, size(d, 2)]);\n",
    "s = np.std(d, 1);\n",
    "d = d/s[:,None]\n",
    "g_mask = np.any(~np.isfinite(d),1);\n",
    "d[g_mask, :] = 0;\n",
    "\n",
    "\n",
    "#% compute correlation matrix\n",
    "rho = np.corrcoef(d, d_corr);\n",
    "rho[~np.isfinite(rho)] = 0;\n",
    "rho_rho = np.corrcoef(rho.T);"
   ]
  },
  {
   "cell_type": "code",
   "execution_count": 11,
   "metadata": {
    "collapsed": false
   },
   "outputs": [],
   "source": [
    "rho_rho[~np.isfinite(rho_rho)]=1e16"
   ]
  },
  {
   "cell_type": "code",
   "execution_count": 12,
   "metadata": {
    "collapsed": true
   },
   "outputs": [],
   "source": [
    "#from skimage import data, io, segmentation, color\n",
    "#from skimage.future import graph\n",
    "from sklearn.cluster import SpectralClustering"
   ]
  },
  {
   "cell_type": "code",
   "execution_count": 15,
   "metadata": {
    "collapsed": false
   },
   "outputs": [],
   "source": [
    "SC=SpectralClustering(affinity='precomputed')\n",
    "labs=SC.fit_predict(rho_rho)\n"
   ]
  },
  {
   "cell_type": "code",
   "execution_count": 14,
   "metadata": {
    "collapsed": false
   },
   "outputs": [
    {
     "ename": "NameError",
     "evalue": "name 'labs' is not defined",
     "output_type": "error",
     "traceback": [
      "\u001b[1;31m---------------------------------------------------------------------------\u001b[0m",
      "\u001b[1;31mNameError\u001b[0m                                 Traceback (most recent call last)",
      "\u001b[1;32m<ipython-input-14-2e42cc8c449c>\u001b[0m in \u001b[0;36m<module>\u001b[1;34m()\u001b[0m\n\u001b[1;32m----> 1\u001b[1;33m \u001b[0mr\u001b[0m\u001b[1;33m=\u001b[0m\u001b[0mdfs_left_sm\u001b[0m\u001b[1;33m,\u001b[0m\u001b[0mr\u001b[0m\u001b[1;33m.\u001b[0m\u001b[0mattributes\u001b[0m\u001b[1;33m=\u001b[0m\u001b[0mlabs\u001b[0m\u001b[1;33m;\u001b[0m\u001b[1;33m\u001b[0m\u001b[0m\n\u001b[0m\u001b[0;32m      2\u001b[0m mesh = mlab.triangular_mesh(r.vertices[:,0], r.vertices[:,1], r.vertices[:,2], r.faces, representation='surface', \n\u001b[0;32m      3\u001b[0m                             opacity=1,scalars=r.attributes)\n\u001b[0;32m      4\u001b[0m \u001b[1;31m#mlab.pipeline.surface(mesh)\u001b[0m\u001b[1;33m\u001b[0m\u001b[1;33m\u001b[0m\u001b[0m\n\u001b[0;32m      5\u001b[0m \u001b[1;33m\u001b[0m\u001b[0m\n",
      "\u001b[1;31mNameError\u001b[0m: name 'labs' is not defined"
     ]
    }
   ],
   "source": [
    "r=dfs_left_sm,r.attributes=labs;\n",
    "mesh = mlab.triangular_mesh(r.vertices[:,0], r.vertices[:,1], r.vertices[:,2], r.faces, representation='surface', \n",
    "                            opacity=1,scalars=r.attributes)\n",
    "#mlab.pipeline.surface(mesh)\n",
    "\n",
    "mlab.gcf().scene.parallel_projection = True\n",
    "mlab.view(azimuth=0, elevation=-90)\n"
   ]
  },
  {
   "cell_type": "code",
   "execution_count": null,
   "metadata": {
    "collapsed": true
   },
   "outputs": [],
   "source": []
  }
 ],
 "metadata": {
  "kernelspec": {
   "display_name": "Python 2",
   "language": "python",
   "name": "python2"
  },
  "language_info": {
   "codemirror_mode": {
    "name": "ipython",
    "version": 2
   },
   "file_extension": ".py",
   "mimetype": "text/x-python",
   "name": "python",
   "nbconvert_exporter": "python",
   "pygments_lexer": "ipython2",
   "version": "2.7.11"
  }
 },
 "nbformat": 4,
 "nbformat_minor": 0
}
