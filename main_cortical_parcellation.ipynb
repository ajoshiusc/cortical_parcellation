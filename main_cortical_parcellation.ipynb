{
 "cells": [
  {
   "cell_type": "markdown",
   "metadata": {},
   "source": [
    "# Groupwise cortical parcellation"
   ]
  },
  {
   "cell_type": "code",
   "execution_count": 1,
   "metadata": {
    "collapsed": false
   },
   "outputs": [
    {
     "name": "stdout",
     "output_type": "stream",
     "text": [
      "Once deleted, variables cannot be recovered. Proceed (y/[n])? y\n"
     ]
    },
    {
     "ename": "ImportError",
     "evalue": "No module named dfsio",
     "output_type": "error",
     "traceback": [
      "\u001b[1;31m---------------------------------------------------------------------------\u001b[0m",
      "\u001b[1;31mImportError\u001b[0m                               Traceback (most recent call last)",
      "\u001b[1;32m<ipython-input-1-72d70afb8f95>\u001b[0m in \u001b[0;36m<module>\u001b[1;34m()\u001b[0m\n\u001b[0;32m      5\u001b[0m \"\"\"\n\u001b[0;32m      6\u001b[0m \u001b[0mget_ipython\u001b[0m\u001b[1;33m(\u001b[0m\u001b[1;33m)\u001b[0m\u001b[1;33m.\u001b[0m\u001b[0mmagic\u001b[0m\u001b[1;33m(\u001b[0m\u001b[1;34mu'reset'\u001b[0m\u001b[1;33m)\u001b[0m\u001b[1;33m\u001b[0m\u001b[0m\n\u001b[1;32m----> 7\u001b[1;33m \u001b[1;32mfrom\u001b[0m \u001b[0mdfsio\u001b[0m \u001b[1;32mimport\u001b[0m \u001b[0mreaddfs\u001b[0m\u001b[1;33m,\u001b[0m\u001b[0mwritedfs\u001b[0m\u001b[1;33m\u001b[0m\u001b[0m\n\u001b[0m\u001b[0;32m      8\u001b[0m \u001b[1;32mimport\u001b[0m \u001b[0mscipy\u001b[0m\u001b[1;33m.\u001b[0m\u001b[0mio\u001b[0m\u001b[1;33m\u001b[0m\u001b[0m\n\u001b[0;32m      9\u001b[0m \u001b[1;32mimport\u001b[0m \u001b[0mnumpy\u001b[0m \u001b[1;32mas\u001b[0m \u001b[0mnp\u001b[0m\u001b[1;33m\u001b[0m\u001b[0m\n",
      "\u001b[1;31mImportError\u001b[0m: No module named dfsio"
     ]
    }
   ],
   "source": [
    "\"\"\"\n",
    "||AUM||\n",
    "||Shree Ganeshaya Namaha||\n",
    "\n",
    "\"\"\"\n",
    "%reset\n",
    "from dfsio import readdfs,writedfs\n",
    "import scipy.io\n",
    "import numpy as np\n",
    "import csv\n",
    "from multivariate.hotelling import hotelling_t2\n",
    "from dfsio import readdfs,writedfs\n",
    "from mayavi import mlab\n",
    "import h5py\n",
    "import os\n",
    "p_dir = 'C:\\\\Users\\\\ajoshi\\\\Downloads\\\\HCP-fMRI-NLM';\n",
    "sub = '100307';\n",
    "r_factor = 3;\n",
    "ref_dir = os.path.join(p_dir, 'reference');\n",
    "ref = '100307';\n",
    "print(ref + '.reduce' + str(r_factor) + '.LR_mask.mat')\n",
    "fn1=ref + '.reduce' + str(r_factor) + '.LR_mask.mat'\n",
    "fname1=os.path.join(ref_dir,fn1 )\n",
    "msk = scipy.io.loadmat(fname1) #h5py.File(fname1);\n",
    "data = scipy.io.loadmat(os.path.join(p_dir, sub, sub + '.rfMRI_REST1_RL.reduce3.ftdata.NLM_11N_hvar_25.mat'));\n",
    "\n",
    "dfs_left = readdfs(os.path.join(p_dir, 'reference', sub + '.aparc.a2009s.32k_fs.reduce3.left.dfs'));\n",
    "dfs_left_sm = readdfs(os.path.join(p_dir, 'reference', sub + '.aparc.a2009s.32k_fs.reduce3.very_smooth.left.dfs'));\n",
    "LR_flag=msk['LR_flag']\n",
    "LR_flag=np.squeeze(LR_flag)>0\n",
    "data=data['ftdata_NLM']\n",
    "temp = data[LR_flag, :]\n",
    "\n",
    "msk_small_region = (dfs_left.labels==46) | (dfs_left.labels==28) | (dfs_left.labels==29) #% motor\n",
    "\n",
    "#temp = data.ftdata_NLM;%(msk.LR_flag, :);\n",
    "d = temp[msk_small_region , :];\n",
    "d_corr = temp[~msk_small_region , :];\n",
    "\n",
    "#% make each signal mean-0 and variance-1\n",
    "m = np.mean(d, 1);\n",
    "d = d - m[:,None]#(:, np.ones((1, size(d, 2)]);\n",
    "s = np.std(d, 1);\n",
    "d = d/s[:,None]\n",
    "g_mask = np.any(~np.isfinite(d),1);\n",
    "d[g_mask, :] = 0;\n",
    "\n",
    "\n",
    "#% compute correlation matrix\n",
    "rho = np.corrcoef(d, d_corr);\n",
    "rho[~np.isfinite(rho)] = 0;\n",
    "rho_rho = np.corrcoef(rho.T);"
   ]
  },
  {
   "cell_type": "code",
   "execution_count": null,
   "metadata": {
    "collapsed": true
   },
   "outputs": [],
   "source": []
  }
 ],
 "metadata": {
  "kernelspec": {
   "display_name": "Python 2",
   "language": "python",
   "name": "python2"
  },
  "language_info": {
   "codemirror_mode": {
    "name": "ipython",
    "version": 2
   },
   "file_extension": ".py",
   "mimetype": "text/x-python",
   "name": "python",
   "nbconvert_exporter": "python",
   "pygments_lexer": "ipython2",
   "version": "2.7.11"
  }
 },
 "nbformat": 4,
 "nbformat_minor": 0
}
