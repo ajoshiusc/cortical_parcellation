{
 "cells": [
  {
   "cell_type": "markdown",
   "metadata": {},
   "source": [
    "# Groupwise cortical parcellation"
   ]
  },
  {
   "cell_type": "code",
   "execution_count": 15,
   "metadata": {},
   "outputs": [
    {
     "name": "stdout",
     "output_type": "stream",
     "text": [
      "Once deleted, variables cannot be recovered. Proceed (y/[n])? y\n",
      "100307.reduce3.LR_mask.mat\n"
     ]
    }
   ],
   "source": [
    "\"\"\"\n",
    "||AUM||\n",
    "||Shree Ganeshaya Namaha||\n",
    "\n",
    "\"\"\"\n",
    "%reset\n",
    "from dfsio import readdfs,writedfs\n",
    "import scipy.io\n",
    "import numpy as np\n",
    "import csv\n",
    "from dfsio import readdfs,writedfs\n",
    "from mayavi import mlab\n",
    "import h5py\n",
    "import os\n",
    "p_dir = 'C:\\\\Users\\\\ajoshi\\\\Downloads\\\\HCP-fMRI-NLM';\n",
    "sub = '100307';\n",
    "r_factor = 3;\n",
    "ref_dir = os.path.join(p_dir, 'reference');\n",
    "ref = '100307';\n",
    "print(ref + '.reduce' + str(r_factor) + '.LR_mask.mat')\n",
    "fn1=ref + '.reduce' + str(r_factor) + '.LR_mask.mat'\n",
    "fname1=os.path.join(ref_dir,fn1 )\n",
    "msk = scipy.io.loadmat(fname1) #h5py.File(fname1);\n",
    "data = scipy.io.loadmat(os.path.join(p_dir, sub, sub + '.rfMRI_REST1_RL.reduce3.ftdata.NLM_11N_hvar_25.mat'));\n",
    "\n",
    "dfs_left = readdfs(os.path.join(p_dir, 'reference', sub + '.aparc.a2009s.32k_fs.reduce3.left.dfs'));\n",
    "dfs_left_sm = readdfs(os.path.join(p_dir, 'reference', sub + '.aparc.a2009s.32k_fs.reduce3.very_smooth.left.dfs'));\n",
    "\n",
    "LR_flag=msk['LR_flag']\n",
    "LR_flag=np.squeeze(LR_flag)>0\n",
    "data=data['ftdata_NLM']\n",
    "temp = data[LR_flag, :]\n",
    "\n",
    "msk_small_region = (dfs_left.labels==46) | (dfs_left.labels==28) | (dfs_left.labels==29) #% motor\n",
    "\n",
    "#temp = data.ftdata_NLM;%(msk.LR_flag, :);\n",
    "d = temp[msk_small_region , :];\n",
    "d_corr = temp[~msk_small_region , :];\n",
    "\n",
    "#% make each signal mean-0 and variance-1\n",
    "m = np.mean(d, 1);\n",
    "d = d - m[:,None]#(:, np.ones((1, size(d, 2)]);\n",
    "s = np.std(d, 1);\n",
    "d = d/s[:,None]\n",
    "#g_mask = np.any(~np.isfinite(d),1);\n",
    "#d[g_mask, :] = 0;\n",
    "\n",
    "\n",
    "#% compute correlation matrix\n",
    "rho = np.corrcoef(d, d_corr);\n",
    "rho=rho[range(d.shape[0]),d.shape[0]+1:]\n",
    "rho[~np.isfinite(rho)] = 0;\n",
    "rho_rho = np.corrcoef(rho);"
   ]
  },
  {
   "cell_type": "code",
   "execution_count": 9,
   "metadata": {},
   "outputs": [],
   "source": [
    "import os\n",
    "from dfsio import readdfs,writedfs\n",
    "import networkx as nx\n",
    "g = nx.Graph()\n",
    "p_dir = 'C:\\\\Users\\\\ajoshi\\\\Downloads\\\\HCP-fMRI-NLM';\n",
    "sub = '100307';\n",
    "s = readdfs(os.path.join(p_dir, 'reference', sub + '.aparc.a2009s.32k_fs.reduce3.very_smooth.left.dfs'));\n",
    "g.add_edges_from(s.faces[:,(0,1)]);g.add_edges_from(s.faces[:,(1,2)]);g.add_edges_from(s.faces[:,(2,0)]);\n",
    "Adj=nx.adjacency_matrix(g)"
   ]
  },
  {
   "cell_type": "code",
   "execution_count": 10,
   "metadata": {},
   "outputs": [
    {
     "data": {
      "text/plain": [
       "numpy.matrixlib.defmatrix.matrix"
      ]
     },
     "execution_count": 10,
     "output_type": "execute_result",
     "metadata": {}
    }
   ],
   "source": [
    "AdjS=Adj[(msk_small_region),:];AdjS=AdjS[:,(msk_small_region)]\n",
    "AdjS=AdjS.todense()\n",
    "#AdjS=np.matrix(AdjS)\n",
    "np.fill_diagonal(AdjS,1)\n",
    "#AdjS.shape\n",
    "AdjS=1.0*((AdjS*AdjS*AdjS)>0)\n",
    "rho_rho=np.multiply(AdjS,rho_rho)\n",
    "np.sum(AdjS,1)\n",
    "type(AdjS)"
   ]
  },
  {
   "cell_type": "code",
   "execution_count": null,
   "metadata": {},
   "outputs": [],
   "source": [
    "from sklearn.covariance import GraphLassoCV\n",
    "dd=np.concatenate((d,d_corr),0)\n",
    "model = GraphLassoCV(mode='lars')\n",
    "model.fit(dd) \n",
    "rho2 = model.covariance_\n",
    "rho2=rho2[range(d.shape[0]),d.shape[0]+1:]\n",
    "rho2[~np.isfinite(rho2)] = 0;\n",
    "model.fit(rho2)\n",
    "rho_rho2=model.covariance_"
   ]
  },
  {
   "cell_type": "code",
   "execution_count": 1,
   "metadata": {},
   "outputs": [
    {
     "ename": "NameError",
     "evalue": "name 'model' is not defined",
     "output_type": "error",
     "traceback": [
      "\u001b[1;31m---------------------------------------------------------------------------\u001b[0m",
      "\u001b[1;31mNameError\u001b[0m                                 Traceback (most recent call last)",
      "\u001b[1;32m<ipython-input-1-59843f2432f5>\u001b[0m in \u001b[0;36m<module>\u001b[1;34m()\u001b[0m\n\u001b[1;32m----> 1\u001b[1;33m \u001b[0mrho\u001b[0m \u001b[1;33m=\u001b[0m \u001b[0mmodel\u001b[0m\u001b[1;33m.\u001b[0m\u001b[0mcovariance_\u001b[0m\u001b[1;33m\u001b[0m\u001b[0m\n\u001b[0m\u001b[0;32m      2\u001b[0m \u001b[0mrho\u001b[0m\u001b[1;33m=\u001b[0m\u001b[0mrho\u001b[0m\u001b[1;33m[\u001b[0m\u001b[0mrange\u001b[0m\u001b[1;33m(\u001b[0m\u001b[0md\u001b[0m\u001b[1;33m.\u001b[0m\u001b[0mshape\u001b[0m\u001b[1;33m[\u001b[0m\u001b[1;36m0\u001b[0m\u001b[1;33m]\u001b[0m\u001b[1;33m)\u001b[0m\u001b[1;33m,\u001b[0m\u001b[0md\u001b[0m\u001b[1;33m.\u001b[0m\u001b[0mshape\u001b[0m\u001b[1;33m[\u001b[0m\u001b[1;36m0\u001b[0m\u001b[1;33m]\u001b[0m\u001b[1;33m+\u001b[0m\u001b[1;36m1\u001b[0m\u001b[1;33m:\u001b[0m\u001b[1;33m]\u001b[0m\u001b[1;33m\u001b[0m\u001b[0m\n\u001b[0;32m      3\u001b[0m \u001b[0mrho\u001b[0m\u001b[1;33m[\u001b[0m\u001b[1;33m~\u001b[0m\u001b[0mnp\u001b[0m\u001b[1;33m.\u001b[0m\u001b[0misfinite\u001b[0m\u001b[1;33m(\u001b[0m\u001b[0mrho\u001b[0m\u001b[1;33m)\u001b[0m\u001b[1;33m]\u001b[0m \u001b[1;33m=\u001b[0m \u001b[1;36m0\u001b[0m\u001b[1;33m;\u001b[0m\u001b[1;33m\u001b[0m\u001b[0m\n\u001b[0;32m      4\u001b[0m \u001b[0mmodel\u001b[0m\u001b[1;33m.\u001b[0m\u001b[0mfit\u001b[0m\u001b[1;33m(\u001b[0m\u001b[0mrho\u001b[0m\u001b[1;33m)\u001b[0m\u001b[1;33m\u001b[0m\u001b[0m\n\u001b[0;32m      5\u001b[0m \u001b[0mrho_rho\u001b[0m\u001b[1;33m=\u001b[0m\u001b[0mmodel\u001b[0m\u001b[1;33m.\u001b[0m\u001b[0mcovariance_\u001b[0m\u001b[1;33m\u001b[0m\u001b[0m\n",
      "\u001b[1;31mNameError\u001b[0m: name 'model' is not defined"
     ]
    }
   ],
   "source": [
    "rho = model.covariance_\n",
    "rho=rho[range(d.shape[0]),d.shape[0]+1:]\n",
    "rho[~np.isfinite(rho)] = 0;\n",
    "model.fit(rho)\n",
    "rho_rho=model.covariance_"
   ]
  },
  {
   "cell_type": "code",
   "execution_count": 11,
   "metadata": {},
   "outputs": [],
   "source": [
    "np.fill_diagonal(rho_rho,0)"
   ]
  },
  {
   "cell_type": "code",
   "execution_count": 12,
   "metadata": {},
   "outputs": [],
   "source": [
    "#from skimage import data, io, segmentation, color\n",
    "#from skimage.future import graph\n",
    "from sklearn.cluster import SpectralClustering"
   ]
  },
  {
   "cell_type": "code",
   "execution_count": 13,
   "metadata": {},
   "outputs": [
    {
     "data": {
      "text/plain": [
       "matrix([[ 1.,  1.,  1., ...,  0.,  0.,  0.],\n",
       "        [ 1.,  1.,  1., ...,  0.,  0.,  0.],\n",
       "        [ 1.,  1.,  1., ...,  0.,  0.,  0.],\n",
       "        ..., \n",
       "        [ 0.,  0.,  0., ...,  1.,  1.,  1.],\n",
       "        [ 0.,  0.,  0., ...,  1.,  1.,  1.],\n",
       "        [ 0.,  0.,  0., ...,  1.,  1.,  1.]])"
      ]
     },
     "execution_count": 13,
     "output_type": "execute_result",
     "metadata": {}
    }
   ],
   "source": [
    "AdjS"
   ]
  },
  {
   "cell_type": "code",
   "execution_count": 14,
   "metadata": {},
   "outputs": [],
   "source": [
    "for nclusters in [2, 5, 10, 30,200]:\n",
    "    SC=SpectralClustering(n_clusters=nclusters,affinity='precomputed')\n",
    "    labs=SC.fit_predict(rho_rho)\n",
    "\n",
    "    r=dfs_left_sm;r.labels=r.labels*0;r.labels[msk_small_region]=labs+1;\n",
    "    mesh = mlab.triangular_mesh(r.vertices[:,0], r.vertices[:,1], r.vertices[:,2], r.faces, representation='surface', \n",
    "                            opacity=1,scalars=np.float64(r.labels))\n",
    "    #mlab.pipeline.surface(mesh)\n",
    "\n",
    "    mlab.gcf().scene.parallel_projection = True\n",
    "    mlab.view(azimuth=0, elevation=-90)\n",
    "    mlab.savefig(filename = str(nclusters)+'labels1.png')\n",
    "    mlab.view(azimuth=0, elevation=90)\n",
    "    mlab.savefig(filename = str(nclusters)+'labels2.png')\n",
    "    mlab.close();"
   ]
  },
  {
   "cell_type": "code",
   "execution_count": 6,
   "metadata": {},
   "outputs": [
    {
     "data": {
      "text/plain": [
       "'5'"
      ]
     },
     "execution_count": 6,
     "output_type": "execute_result",
     "metadata": {}
    }
   ],
   "source": [
    "str(5)"
   ]
  },
  {
   "cell_type": "code",
   "execution_count": 7,
   "metadata": {},
   "outputs": [
    {
     "data": {
      "text/plain": [
       "0"
      ]
     },
     "execution_count": 7,
     "output_type": "execute_result",
     "metadata": {}
    }
   ],
   "source": [
    "np.min(labs)"
   ]
  },
  {
   "cell_type": "code",
   "execution_count": null,
   "metadata": {},
   "outputs": [],
   "source": [
    ""
   ]
  },
  {
   "cell_type": "code",
   "execution_count": null,
   "metadata": {},
   "outputs": [],
   "source": [
    ""
   ]
  }
 ],
 "metadata": {
  "kernelspec": {
   "display_name": "Python 2",
   "language": "python",
   "name": "python2"
  },
  "language_info": {
   "codemirror_mode": {
    "name": "ipython",
    "version": 2.0
   },
   "file_extension": ".py",
   "mimetype": "text/x-python",
   "name": "python",
   "nbconvert_exporter": "python",
   "pygments_lexer": "ipython2",
   "version": "2.7.11"
  }
 },
 "nbformat": 4,
 "nbformat_minor": 0
}