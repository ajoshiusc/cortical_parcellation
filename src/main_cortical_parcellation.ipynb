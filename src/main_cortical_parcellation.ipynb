{
 "cells": [
  {
   "cell_type": "markdown",
   "metadata": {},
   "source": [
    "# Groupwise cortical parcellation"
   ]
  },
  {
   "cell_type": "code",
   "execution_count": null,
   "metadata": {
    "collapsed": false
   },
   "outputs": [
    {
     "name": "stdout",
     "output_type": "stream",
     "text": [
      "130013 100307\n",
      "100307.reduce3.LR_mask.mat\n",
      "rendering!\n"
     ]
    }
   ],
   "source": [
    "# ||AUM||\n",
    "%matplotlib inline\n",
    "%gui qt\n",
    "import scipy.io\n",
    "import scipy as sp\n",
    "import numpy as np\n",
    "from dfsio import readdfs, writedfs\n",
    "from mayavi import mlab\n",
    "#import h5py\n",
    "import os\n",
    "from surfproc import view_patch, view_patch_vtk, get_cmap, smooth_patch\n",
    "from sklearn.cluster import SpectralClustering\n",
    "from sklearn.decomposition import DictionaryLearning\n",
    "from scipy.stats import trim_mean\n",
    "from sklearn.metrics.pairwise import pairwise_distances\n",
    "from sklearn.utils.linear_assignment_ import linear_assignment\n",
    "from sklearn.metrics import silhouette_score\n",
    "p_dir = 'E:\\\\HCP-fMRI-NLM'\n",
    "p_dir_ref='E:\\\\'\n",
    "lst = os.listdir(p_dir)\n",
    "r_factor = 3\n",
    "ref_dir = os.path.join(p_dir_ref, 'reference')\n",
    "nClusters=2\n",
    "\n",
    "ref = '100307'\n",
    "sub = lst[15]\n",
    "print sub, ref\n",
    "print(ref + '.reduce' + str(r_factor) + '.LR_mask.mat')\n",
    "fn1 = ref + '.reduce' + str(r_factor) + '.LR_mask.mat'\n",
    "fname1 = os.path.join(ref_dir, fn1)\n",
    "msk = scipy.io.loadmat(fname1)  # h5py.File(fname1);\n",
    "dfs_left = readdfs(os.path.join(p_dir_ref, 'reference', ref + '.aparc.a2009s.32k_fs.reduce3.left.dfs'))\n",
    "dfs_left_sm = readdfs(os.path.join(p_dir_ref, 'reference', ref + '.aparc.a2009s.32k_fs.reduce3.very_smooth.left.dfs'))\n",
    "count1 = 0\n",
    "roilist=[30, 72, 9, 47] #pc\n",
    "ref=lst[11]\n",
    "datasub = scipy.io.loadmat(os.path.join(p_dir, sub, sub + '.rfMRI_REST1_RL.reduce3.ftdata.NLM_11N_hvar_25.mat'))\n",
    "dataref = scipy.io.loadmat(os.path.join(p_dir, ref, ref + '.rfMRI_REST1_RL.reduce3.ftdata.NLM_11N_hvar_25.mat'))\n",
    "\n",
    "LR_flag = msk['LR_flag']\n",
    "LR_flag = np.squeeze(LR_flag) > 0\n",
    "data = dataref['ftdata_NLM']\n",
    "temp = data[LR_flag, :]\n",
    "m = np.mean(temp, 1)\n",
    "temp = temp - m[:,None]\n",
    "s = np.std(temp, 1)+1e-16\n",
    "temp = temp/s[:,None]\n",
    "\n",
    "data = datasub['ftdata_NLM']\n",
    "tempsub = data[LR_flag, :]\n",
    "m = np.mean(tempsub, 1)\n",
    "tempsub = tempsub - m[:,None]\n",
    "s = np.std(tempsub, 1)+1e-16\n",
    "tempsub = tempsub/s[:,None]\n",
    "\n",
    "msk_small_region = np.in1d(dfs_left.labels,roilist)\n",
    "#    msk_small_region = (dfs_left.labels == 30) | (dfs_left.labels == 72) | (dfs_left.labels == 9) |  (dfs_left.labels == 47)  # % motor\n",
    "d = temp[msk_small_region, :]\n",
    "\n",
    "ref_mean_pc = sp.mean(d,axis=0)\n",
    "ref_mean_pc=ref_mean_pc-sp.mean(ref_mean_pc)\n",
    "ref_mean_pc=ref_mean_pc/(sp.std(ref_mean_pc))\n",
    "\n",
    "rho = np.dot(ref_mean_pc,temp.T)\n",
    "rho[~np.isfinite(rho)] = 0\n",
    "dfs_left_sm.attributes = rho\n",
    "view_patch(dfs_left_sm,rho)\n",
    "\n",
    "rho = np.dot(ref_mean_pc,tempsub.T)\n",
    "rho[~np.isfinite(rho)] = 0\n",
    "dfs_left.attributes = rho\n",
    "view_patch(dfs_left_sm,rho)\n",
    "\n",
    "sm=smooth_patch(dfs_left,iter=1000)\n",
    "view_patch_vtk(sm)\n",
    "#view_patch(dfs_left,rho)\n",
    "\n",
    "xcorr=sp.dot((tempsub.T),temp)\n",
    "\n",
    "u,s,v=scipy.linalg.svd(xcorr)\n",
    "R=sp.dot(v.T,u.T)\n",
    "\n",
    "rho = sp.dot(ref_mean_pc,sp.dot(tempsub,R.T).T)\n",
    "#rho=rho[0,1:]\n",
    "rho[~np.isfinite(rho)] = 0\n",
    "dfs_left.attributes = rho\n",
    "view_patch(dfs_left_sm,rho)"
   ]
  },
  {
   "cell_type": "code",
   "execution_count": 2,
   "metadata": {
    "collapsed": false
   },
   "outputs": [
    {
     "ename": "IOError",
     "evalue": "File name E:\\HCP-fMRI-NLM\\reference\\100307.aparc.a2009s.32k_fs.reduce3.very_smooth.left.dfs does not exist.",
     "output_type": "error",
     "traceback": [
      "\u001b[0;31m---------------------------------------------------------------------------\u001b[0m",
      "\u001b[0;31mIOError\u001b[0m                                   Traceback (most recent call last)",
      "\u001b[0;32m<ipython-input-2-64fbdf52dbbd>\u001b[0m in \u001b[0;36m<module>\u001b[0;34m()\u001b[0m\n\u001b[1;32m      5\u001b[0m \u001b[0mp_dir\u001b[0m \u001b[0;34m=\u001b[0m \u001b[0;34m'E:\\\\HCP-fMRI-NLM'\u001b[0m\u001b[0;34m;\u001b[0m\u001b[0;34m\u001b[0m\u001b[0m\n\u001b[1;32m      6\u001b[0m \u001b[0msub\u001b[0m \u001b[0;34m=\u001b[0m \u001b[0;34m'100307'\u001b[0m\u001b[0;34m;\u001b[0m\u001b[0;34m\u001b[0m\u001b[0m\n\u001b[0;32m----> 7\u001b[0;31m \u001b[0ms\u001b[0m \u001b[0;34m=\u001b[0m \u001b[0mreaddfs\u001b[0m\u001b[0;34m(\u001b[0m\u001b[0mos\u001b[0m\u001b[0;34m.\u001b[0m\u001b[0mpath\u001b[0m\u001b[0;34m.\u001b[0m\u001b[0mjoin\u001b[0m\u001b[0;34m(\u001b[0m\u001b[0mp_dir\u001b[0m\u001b[0;34m,\u001b[0m \u001b[0;34m'reference'\u001b[0m\u001b[0;34m,\u001b[0m \u001b[0msub\u001b[0m \u001b[0;34m+\u001b[0m \u001b[0;34m'.aparc.a2009s.32k_fs.reduce3.very_smooth.left.dfs'\u001b[0m\u001b[0;34m)\u001b[0m\u001b[0;34m)\u001b[0m\u001b[0;34m;\u001b[0m\u001b[0;34m\u001b[0m\u001b[0m\n\u001b[0m\u001b[1;32m      8\u001b[0m \u001b[0mg\u001b[0m\u001b[0;34m.\u001b[0m\u001b[0madd_edges_from\u001b[0m\u001b[0;34m(\u001b[0m\u001b[0ms\u001b[0m\u001b[0;34m.\u001b[0m\u001b[0mfaces\u001b[0m\u001b[0;34m[\u001b[0m\u001b[0;34m:\u001b[0m\u001b[0;34m,\u001b[0m\u001b[0;34m(\u001b[0m\u001b[0;36m0\u001b[0m\u001b[0;34m,\u001b[0m\u001b[0;36m1\u001b[0m\u001b[0;34m)\u001b[0m\u001b[0;34m]\u001b[0m\u001b[0;34m)\u001b[0m\u001b[0;34m;\u001b[0m\u001b[0mg\u001b[0m\u001b[0;34m.\u001b[0m\u001b[0madd_edges_from\u001b[0m\u001b[0;34m(\u001b[0m\u001b[0ms\u001b[0m\u001b[0;34m.\u001b[0m\u001b[0mfaces\u001b[0m\u001b[0;34m[\u001b[0m\u001b[0;34m:\u001b[0m\u001b[0;34m,\u001b[0m\u001b[0;34m(\u001b[0m\u001b[0;36m1\u001b[0m\u001b[0;34m,\u001b[0m\u001b[0;36m2\u001b[0m\u001b[0;34m)\u001b[0m\u001b[0;34m]\u001b[0m\u001b[0;34m)\u001b[0m\u001b[0;34m;\u001b[0m\u001b[0mg\u001b[0m\u001b[0;34m.\u001b[0m\u001b[0madd_edges_from\u001b[0m\u001b[0;34m(\u001b[0m\u001b[0ms\u001b[0m\u001b[0;34m.\u001b[0m\u001b[0mfaces\u001b[0m\u001b[0;34m[\u001b[0m\u001b[0;34m:\u001b[0m\u001b[0;34m,\u001b[0m\u001b[0;34m(\u001b[0m\u001b[0;36m2\u001b[0m\u001b[0;34m,\u001b[0m\u001b[0;36m0\u001b[0m\u001b[0;34m)\u001b[0m\u001b[0;34m]\u001b[0m\u001b[0;34m)\u001b[0m\u001b[0;34m;\u001b[0m\u001b[0;34m\u001b[0m\u001b[0m\n\u001b[1;32m      9\u001b[0m \u001b[0mAdj\u001b[0m\u001b[0;34m=\u001b[0m\u001b[0mnx\u001b[0m\u001b[0;34m.\u001b[0m\u001b[0madjacency_matrix\u001b[0m\u001b[0;34m(\u001b[0m\u001b[0mg\u001b[0m\u001b[0;34m)\u001b[0m\u001b[0;34m\u001b[0m\u001b[0m\n",
      "\u001b[0;32mC:\\Users\\ajoshi\\Documents\\coding_ground\\cortical_clustering\\src\\dfsio.pyc\u001b[0m in \u001b[0;36mreaddfs\u001b[0;34m(fname)\u001b[0m\n\u001b[1;32m     38\u001b[0m \u001b[0;34m\u001b[0m\u001b[0m\n\u001b[1;32m     39\u001b[0m     \u001b[0;32mif\u001b[0m \u001b[0;32mnot\u001b[0m \u001b[0mos\u001b[0m\u001b[0;34m.\u001b[0m\u001b[0mpath\u001b[0m\u001b[0;34m.\u001b[0m\u001b[0mexists\u001b[0m\u001b[0;34m(\u001b[0m\u001b[0mfname\u001b[0m\u001b[0;34m)\u001b[0m\u001b[0;34m:\u001b[0m\u001b[0;34m\u001b[0m\u001b[0m\n\u001b[0;32m---> 40\u001b[0;31m         \u001b[0;32mraise\u001b[0m \u001b[0mIOError\u001b[0m\u001b[0;34m(\u001b[0m\u001b[0;34m'File name '\u001b[0m \u001b[0;34m+\u001b[0m \u001b[0mfname\u001b[0m \u001b[0;34m+\u001b[0m \u001b[0;34m' does not exist.'\u001b[0m\u001b[0;34m)\u001b[0m\u001b[0;34m\u001b[0m\u001b[0m\n\u001b[0m\u001b[1;32m     41\u001b[0m \u001b[0;34m\u001b[0m\u001b[0m\n\u001b[1;32m     42\u001b[0m     \u001b[0mfid\u001b[0m \u001b[0;34m=\u001b[0m \u001b[0mopen\u001b[0m\u001b[0;34m(\u001b[0m\u001b[0mfname\u001b[0m\u001b[0;34m,\u001b[0m \u001b[0;34m'rb'\u001b[0m\u001b[0;34m)\u001b[0m\u001b[0;34m\u001b[0m\u001b[0m\n",
      "\u001b[0;31mIOError\u001b[0m: File name E:\\HCP-fMRI-NLM\\reference\\100307.aparc.a2009s.32k_fs.reduce3.very_smooth.left.dfs does not exist."
     ]
    }
   ],
   "source": [
    "import os\n",
    "from dfsio import readdfs,writedfs\n",
    "import networkx as nx\n",
    "g = nx.Graph()\n",
    "p_dir = 'E:\\\\HCP-fMRI-NLM';\n",
    "sub = '100307';\n",
    "s = readdfs(os.path.join(p_dir, 'reference', sub + '.aparc.a2009s.32k_fs.reduce3.very_smooth.left.dfs'));\n",
    "g.add_edges_from(s.faces[:,(0,1)]);g.add_edges_from(s.faces[:,(1,2)]);g.add_edges_from(s.faces[:,(2,0)]);\n",
    "Adj=nx.adjacency_matrix(g)"
   ]
  },
  {
   "cell_type": "code",
   "execution_count": null,
   "metadata": {
    "collapsed": true
   },
   "outputs": [],
   "source": []
  },
  {
   "cell_type": "code",
   "execution_count": 3,
   "metadata": {
    "collapsed": false
   },
   "outputs": [
    {
     "ename": "NameError",
     "evalue": "name 'Adj' is not defined",
     "output_type": "error",
     "traceback": [
      "\u001b[0;31m---------------------------------------------------------------------------\u001b[0m",
      "\u001b[0;31mNameError\u001b[0m                                 Traceback (most recent call last)",
      "\u001b[0;32m<ipython-input-3-065b227ee19c>\u001b[0m in \u001b[0;36m<module>\u001b[0;34m()\u001b[0m\n\u001b[0;32m----> 1\u001b[0;31m \u001b[0mAdjS\u001b[0m\u001b[0;34m=\u001b[0m\u001b[0mAdj\u001b[0m\u001b[0;34m[\u001b[0m\u001b[0;34m(\u001b[0m\u001b[0mmsk_small_region\u001b[0m\u001b[0;34m)\u001b[0m\u001b[0;34m,\u001b[0m\u001b[0;34m:\u001b[0m\u001b[0;34m]\u001b[0m\u001b[0;34m;\u001b[0m\u001b[0mAdjS\u001b[0m\u001b[0;34m=\u001b[0m\u001b[0mAdjS\u001b[0m\u001b[0;34m[\u001b[0m\u001b[0;34m:\u001b[0m\u001b[0;34m,\u001b[0m\u001b[0;34m(\u001b[0m\u001b[0mmsk_small_region\u001b[0m\u001b[0;34m)\u001b[0m\u001b[0;34m]\u001b[0m\u001b[0;34m\u001b[0m\u001b[0m\n\u001b[0m\u001b[1;32m      2\u001b[0m \u001b[0mAdjS\u001b[0m\u001b[0;34m=\u001b[0m\u001b[0mAdjS\u001b[0m\u001b[0;34m.\u001b[0m\u001b[0mtodense\u001b[0m\u001b[0;34m(\u001b[0m\u001b[0;34m)\u001b[0m\u001b[0;34m\u001b[0m\u001b[0m\n\u001b[1;32m      3\u001b[0m \u001b[0;31m#AdjS=np.matrix(AdjS)\u001b[0m\u001b[0;34m\u001b[0m\u001b[0;34m\u001b[0m\u001b[0m\n\u001b[1;32m      4\u001b[0m \u001b[0mnp\u001b[0m\u001b[0;34m.\u001b[0m\u001b[0mfill_diagonal\u001b[0m\u001b[0;34m(\u001b[0m\u001b[0mAdjS\u001b[0m\u001b[0;34m,\u001b[0m\u001b[0;36m1\u001b[0m\u001b[0;34m)\u001b[0m\u001b[0;34m\u001b[0m\u001b[0m\n\u001b[1;32m      5\u001b[0m \u001b[0;31m#AdjS.shape\u001b[0m\u001b[0;34m\u001b[0m\u001b[0;34m\u001b[0m\u001b[0m\n",
      "\u001b[0;31mNameError\u001b[0m: name 'Adj' is not defined"
     ]
    }
   ],
   "source": [
    "AdjS=Adj[(msk_small_region),:];AdjS=AdjS[:,(msk_small_region)]\n",
    "AdjS=AdjS.todense()\n",
    "#AdjS=np.matrix(AdjS)\n",
    "np.fill_diagonal(AdjS,1)\n",
    "#AdjS.shape\n",
    "AdjS=1.0*((AdjS*AdjS*AdjS)>0)\n",
    "rho_rho=np.multiply(AdjS,rho_rho)\n",
    "np.sum(AdjS,1)\n",
    "type(AdjS)"
   ]
  },
  {
   "cell_type": "code",
   "execution_count": 4,
   "metadata": {
    "collapsed": false
   },
   "outputs": [
    {
     "ename": "NameError",
     "evalue": "name 'd' is not defined",
     "output_type": "error",
     "traceback": [
      "\u001b[0;31m---------------------------------------------------------------------------\u001b[0m",
      "\u001b[0;31mNameError\u001b[0m                                 Traceback (most recent call last)",
      "\u001b[0;32m<ipython-input-4-76ece8c00bb2>\u001b[0m in \u001b[0;36m<module>\u001b[0;34m()\u001b[0m\n\u001b[1;32m      1\u001b[0m \u001b[0;32mfrom\u001b[0m \u001b[0msklearn\u001b[0m\u001b[0;34m.\u001b[0m\u001b[0mcovariance\u001b[0m \u001b[0;32mimport\u001b[0m \u001b[0mGraphLassoCV\u001b[0m\u001b[0;34m\u001b[0m\u001b[0m\n\u001b[0;32m----> 2\u001b[0;31m \u001b[0mdd\u001b[0m\u001b[0;34m=\u001b[0m\u001b[0mnp\u001b[0m\u001b[0;34m.\u001b[0m\u001b[0mconcatenate\u001b[0m\u001b[0;34m(\u001b[0m\u001b[0;34m(\u001b[0m\u001b[0md\u001b[0m\u001b[0;34m,\u001b[0m\u001b[0md_corr\u001b[0m\u001b[0;34m)\u001b[0m\u001b[0;34m,\u001b[0m\u001b[0;36m0\u001b[0m\u001b[0;34m)\u001b[0m\u001b[0;34m\u001b[0m\u001b[0m\n\u001b[0m\u001b[1;32m      3\u001b[0m \u001b[0mmodel\u001b[0m \u001b[0;34m=\u001b[0m \u001b[0mGraphLassoCV\u001b[0m\u001b[0;34m(\u001b[0m\u001b[0mmode\u001b[0m\u001b[0;34m=\u001b[0m\u001b[0;34m'lars'\u001b[0m\u001b[0;34m)\u001b[0m\u001b[0;34m\u001b[0m\u001b[0m\n\u001b[1;32m      4\u001b[0m \u001b[0mmodel\u001b[0m\u001b[0;34m.\u001b[0m\u001b[0mfit\u001b[0m\u001b[0;34m(\u001b[0m\u001b[0mdd\u001b[0m\u001b[0;34m)\u001b[0m\u001b[0;34m\u001b[0m\u001b[0m\n\u001b[1;32m      5\u001b[0m \u001b[0mrho2\u001b[0m \u001b[0;34m=\u001b[0m \u001b[0mmodel\u001b[0m\u001b[0;34m.\u001b[0m\u001b[0mcovariance_\u001b[0m\u001b[0;34m\u001b[0m\u001b[0m\n",
      "\u001b[0;31mNameError\u001b[0m: name 'd' is not defined"
     ]
    }
   ],
   "source": [
    "from sklearn.covariance import GraphLassoCV\n",
    "dd=np.concatenate((d,d_corr),0)\n",
    "model = GraphLassoCV(mode='lars')\n",
    "model.fit(dd) \n",
    "rho2 = model.covariance_\n",
    "rho2=rho2[range(d.shape[0]),d.shape[0]+1:]\n",
    "rho2[~np.isfinite(rho2)] = 0;\n",
    "model.fit(rho2)\n",
    "rho_rho2=model.covariance_"
   ]
  },
  {
   "cell_type": "code",
   "execution_count": 1,
   "metadata": {
    "collapsed": false
   },
   "outputs": [
    {
     "ename": "NameError",
     "evalue": "name 'model' is not defined",
     "output_type": "error",
     "traceback": [
      "\u001b[1;31m---------------------------------------------------------------------------\u001b[0m",
      "\u001b[1;31mNameError\u001b[0m                                 Traceback (most recent call last)",
      "\u001b[1;32m<ipython-input-1-59843f2432f5>\u001b[0m in \u001b[0;36m<module>\u001b[1;34m()\u001b[0m\n\u001b[1;32m----> 1\u001b[1;33m \u001b[0mrho\u001b[0m \u001b[1;33m=\u001b[0m \u001b[0mmodel\u001b[0m\u001b[1;33m.\u001b[0m\u001b[0mcovariance_\u001b[0m\u001b[1;33m\u001b[0m\u001b[0m\n\u001b[0m\u001b[0;32m      2\u001b[0m \u001b[0mrho\u001b[0m\u001b[1;33m=\u001b[0m\u001b[0mrho\u001b[0m\u001b[1;33m[\u001b[0m\u001b[0mrange\u001b[0m\u001b[1;33m(\u001b[0m\u001b[0md\u001b[0m\u001b[1;33m.\u001b[0m\u001b[0mshape\u001b[0m\u001b[1;33m[\u001b[0m\u001b[1;36m0\u001b[0m\u001b[1;33m]\u001b[0m\u001b[1;33m)\u001b[0m\u001b[1;33m,\u001b[0m\u001b[0md\u001b[0m\u001b[1;33m.\u001b[0m\u001b[0mshape\u001b[0m\u001b[1;33m[\u001b[0m\u001b[1;36m0\u001b[0m\u001b[1;33m]\u001b[0m\u001b[1;33m+\u001b[0m\u001b[1;36m1\u001b[0m\u001b[1;33m:\u001b[0m\u001b[1;33m]\u001b[0m\u001b[1;33m\u001b[0m\u001b[0m\n\u001b[0;32m      3\u001b[0m \u001b[0mrho\u001b[0m\u001b[1;33m[\u001b[0m\u001b[1;33m~\u001b[0m\u001b[0mnp\u001b[0m\u001b[1;33m.\u001b[0m\u001b[0misfinite\u001b[0m\u001b[1;33m(\u001b[0m\u001b[0mrho\u001b[0m\u001b[1;33m)\u001b[0m\u001b[1;33m]\u001b[0m \u001b[1;33m=\u001b[0m \u001b[1;36m0\u001b[0m\u001b[1;33m;\u001b[0m\u001b[1;33m\u001b[0m\u001b[0m\n\u001b[0;32m      4\u001b[0m \u001b[0mmodel\u001b[0m\u001b[1;33m.\u001b[0m\u001b[0mfit\u001b[0m\u001b[1;33m(\u001b[0m\u001b[0mrho\u001b[0m\u001b[1;33m)\u001b[0m\u001b[1;33m\u001b[0m\u001b[0m\n\u001b[0;32m      5\u001b[0m \u001b[0mrho_rho\u001b[0m\u001b[1;33m=\u001b[0m\u001b[0mmodel\u001b[0m\u001b[1;33m.\u001b[0m\u001b[0mcovariance_\u001b[0m\u001b[1;33m\u001b[0m\u001b[0m\n",
      "\u001b[1;31mNameError\u001b[0m: name 'model' is not defined"
     ]
    }
   ],
   "source": [
    "rho = model.covariance_\n",
    "rho=rho[range(d.shape[0]),d.shape[0]+1:]\n",
    "rho[~np.isfinite(rho)] = 0;\n",
    "model.fit(rho)\n",
    "rho_rho=model.covariance_"
   ]
  },
  {
   "cell_type": "code",
   "execution_count": 11,
   "metadata": {
    "collapsed": true
   },
   "outputs": [],
   "source": [
    "np.fill_diagonal(rho_rho,0)"
   ]
  },
  {
   "cell_type": "code",
   "execution_count": 18,
   "metadata": {
    "collapsed": true
   },
   "outputs": [],
   "source": [
    "#from skimage import data, io, segmentation, color\n",
    "#from skimage.future import graph\n",
    "from sklearn.cluster import SpectralClustering"
   ]
  },
  {
   "cell_type": "code",
   "execution_count": 13,
   "metadata": {
    "collapsed": false
   },
   "outputs": [
    {
     "data": {
      "text/plain": [
       "matrix([[ 1.,  1.,  1., ...,  0.,  0.,  0.],\n",
       "        [ 1.,  1.,  1., ...,  0.,  0.,  0.],\n",
       "        [ 1.,  1.,  1., ...,  0.,  0.,  0.],\n",
       "        ..., \n",
       "        [ 0.,  0.,  0., ...,  1.,  1.,  1.],\n",
       "        [ 0.,  0.,  0., ...,  1.,  1.,  1.],\n",
       "        [ 0.,  0.,  0., ...,  1.,  1.,  1.]])"
      ]
     },
     "execution_count": 13,
     "metadata": {},
     "output_type": "execute_result"
    }
   ],
   "source": [
    "AdjS"
   ]
  },
  {
   "cell_type": "code",
   "execution_count": 21,
   "metadata": {
    "collapsed": true
   },
   "outputs": [],
   "source": [
    "for nclusters in [2, 5, 10, 30,200]:\n",
    "    SC=SpectralClustering(n_clusters=nclusters,affinity='precomputed')\n",
    "    labs=SC.fit_predict(rho_rho)\n",
    "\n",
    "    r=dfs_left_sm;r.labels=r.labels*0;r.labels[msk_small_region]=labs+1;\n",
    "    mesh = mlab.triangular_mesh(r.vertices[:,0], r.vertices[:,1], r.vertices[:,2], r.faces, representation='surface', \n",
    "                            opacity=1,scalars=np.float64(r.labels))\n",
    "    #mlab.pipeline.surface(mesh)\n",
    "\n",
    "    mlab.gcf().scene.parallel_projection = True\n",
    "    mlab.view(azimuth=0, elevation=-90)\n",
    "    mlab.savefig(filename = sub+str(nclusters)+'labels1.png')\n",
    "    mlab.view(azimuth=0, elevation=90)\n",
    "    mlab.savefig(filename = sub+str(nclusters)+'labels2.png')\n",
    "    mlab.close();"
   ]
  },
  {
   "cell_type": "code",
   "execution_count": 6,
   "metadata": {
    "collapsed": false
   },
   "outputs": [
    {
     "data": {
      "text/plain": [
       "'5'"
      ]
     },
     "execution_count": 6,
     "metadata": {},
     "output_type": "execute_result"
    }
   ],
   "source": [
    "str(5)"
   ]
  },
  {
   "cell_type": "code",
   "execution_count": 7,
   "metadata": {
    "collapsed": false
   },
   "outputs": [
    {
     "data": {
      "text/plain": [
       "0"
      ]
     },
     "execution_count": 7,
     "metadata": {},
     "output_type": "execute_result"
    }
   ],
   "source": [
    "np.min(labs)"
   ]
  },
  {
   "cell_type": "code",
   "execution_count": null,
   "metadata": {
    "collapsed": true
   },
   "outputs": [],
   "source": []
  },
  {
   "cell_type": "code",
   "execution_count": null,
   "metadata": {
    "collapsed": true
   },
   "outputs": [],
   "source": []
  }
 ],
 "metadata": {
  "anaconda-cloud": {},
  "kernelspec": {
   "display_name": "Python 2",
   "language": "python",
   "name": "python2"
  },
  "language_info": {
   "codemirror_mode": {
    "name": "ipython",
    "version": 2
   },
   "file_extension": ".py",
   "mimetype": "text/x-python",
   "name": "python",
   "nbconvert_exporter": "python",
   "pygments_lexer": "ipython2",
   "version": "2.7.12"
  }
 },
 "nbformat": 4,
 "nbformat_minor": 0
}
